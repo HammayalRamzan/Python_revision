{
 "cells": [
  {
   "cell_type": "markdown",
   "metadata": {},
   "source": [
    "### Create a Python program that asks the user for their personal details, stores them in variables, and displays them in a formatted way."
   ]
  },
  {
   "cell_type": "code",
   "execution_count": 7,
   "metadata": {},
   "outputs": [
    {
     "name": "stdout",
     "output_type": "stream",
     "text": [
      "\n",
      "📌 Personal Information:\n",
      "Name: Hammayal\n",
      "Age: 18\n",
      "Favourite Color: Black\n",
      "Student: True\n"
     ]
    }
   ],
   "source": [
    "# Personal Information Formatter\n",
    "name= str(input(\"Enter your name:\"))\n",
    "age= int(input(\"Enter your age:\"))\n",
    "fav_clr= str(input(\"Enter your favourite color:\"))\n",
    "is_student= bool(input(\"Are you a student? (True/False):\"))\n",
    "\n",
    "# Displaying the formatted output\n",
    "print(\"\\n📌 Personal Information:\")\n",
    "print(\"Name:\", name)\n",
    "print(\"Age:\", age)\n",
    "print(\"Favourite Color:\", fav_clr)\n",
    "print(\"Student:\", is_student)\n"
   ]
  },
  {
   "cell_type": "markdown",
   "metadata": {},
   "source": [
    "### 💡 Write a program where the user enters the price of three grocery items, and the program calculates the total bill.\n",
    "\n",
    "Requirements:\n",
    "\n",
    "--> Ask for the price of three grocery items (float data type).\n",
    "\n",
    "--> Calculate the total bill using these variables.\n",
    "\n",
    "--> Display the final amount."
   ]
  },
  {
   "cell_type": "code",
   "execution_count": 8,
   "metadata": {},
   "outputs": [
    {
     "name": "stdout",
     "output_type": "stream",
     "text": [
      "\n",
      "📌 Grocery Bill:\n",
      "Price of item 1: 50.0\n",
      "Price of item 2: 50.0\n",
      "Price of item 3: 50.0\n",
      "Total Bill: 150.0\n"
     ]
    }
   ],
   "source": [
    "# Simple Grocery Bill Calculator\n",
    "item1_price = float(input(\"Enter the price of the first item: \"))\n",
    "item2_price = float(input(\"Enter the price of the second item: \"))\n",
    "item3_price = float(input(\"Enter the price of the third item: \"))\n",
    "\n",
    "# Calculate the total bill\n",
    "total_bill = item1_price + item2_price + item3_price\n",
    "\n",
    "# Displaying the formatted output\n",
    "print(\"\\n📌 Grocery Bill:\")\n",
    "print(\"Price of item 1:\", item1_price)\n",
    "print(\"Price of item 2:\", item2_price)\n",
    "print(\"Price of item 3:\", item3_price)\n",
    "print(\"Total Bill:\", total_bill)"
   ]
  },
  {
   "cell_type": "markdown",
   "metadata": {},
   "source": [
    "### 💡 Create a program that asks for the user's birth year and calculates their age.\n",
    "\n",
    "Requirements:\n",
    "Ask for the birth year (integer).\n",
    "Calculate the age based on the current year (store it in a variable).\n",
    "Display the result."
   ]
  },
  {
   "cell_type": "code",
   "execution_count": 11,
   "metadata": {},
   "outputs": [
    {
     "name": "stdout",
     "output_type": "stream",
     "text": [
      "\n",
      "📌 Age Calculator:\n",
      "You are 18 years old!\n"
     ]
    }
   ],
   "source": [
    "# Age Calculator\n",
    "current_year = int(input(\"Enter the current year: \"))\n",
    "birth_year = int(input(\"Enter your birth year: \"))\n",
    "print(\"\\n📌 Age Calculator:\")\n",
    "print(\"You are\", current_year - birth_year, \"years old!\")"
   ]
  }
 ],
 "metadata": {
  "kernelspec": {
   "display_name": "base",
   "language": "python",
   "name": "python3"
  },
  "language_info": {
   "codemirror_mode": {
    "name": "ipython",
    "version": 3
   },
   "file_extension": ".py",
   "mimetype": "text/x-python",
   "name": "python",
   "nbconvert_exporter": "python",
   "pygments_lexer": "ipython3",
   "version": "3.12.9"
  }
 },
 "nbformat": 4,
 "nbformat_minor": 2
}
