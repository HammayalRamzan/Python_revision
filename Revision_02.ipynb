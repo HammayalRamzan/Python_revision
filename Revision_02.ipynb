{
 "cells": [
  {
   "cell_type": "markdown",
   "metadata": {},
   "source": [
    "### 1. Multiplication Table Generator\n",
    "💡 Create a program that generates a multiplication table for a given number.\n",
    "\n",
    "Requirements:\n",
    "\n",
    "Ask the user for a number (integer).\n",
    "\n",
    "Use a loop to print the multiplication table for that number from 1 to 10."
   ]
  },
  {
   "cell_type": "code",
   "execution_count": null,
   "metadata": {},
   "outputs": [
    {
     "name": "stdout",
     "output_type": "stream",
     "text": [
      "Multiplication table of: 5\n",
      "5x1=5\n",
      "5x2=10\n",
      "5x3=15\n",
      "5x4=20\n",
      "5x5=25\n",
      "5x6=30\n",
      "5x7=35\n",
      "5x8=40\n",
      "5x9=45\n",
      "5x10=50\n"
     ]
    }
   ],
   "source": [
    "# Print the multiplication table of the number entered by the user\n",
    "number=int(input(\"Enter your multiplication table number: \"))\n",
    "# Print the multiplication table from 1 to 10 using a loop\n",
    "print(\"Multiplication table of:\",number)\n",
    "for i in range(1,11):\n",
    "    result=number*i\n",
    "# Print the multiplication statement\n",
    "    print(f\"{number}x{i}={result}\")\n",
    "    "
   ]
  },
  {
   "cell_type": "markdown",
   "metadata": {},
   "source": [
    "### 2. Even & Odd Number Separator\n",
    "💡 Create a program that separates even and odd numbers from a given range.\n",
    "\n",
    "Requirements:\n",
    "\n",
    "Ask the user to enter a starting and ending number.\n",
    "\n",
    "Use a loop to go through all numbers in the given range.\n",
    "\n",
    "Separate and display even and odd numbers in two different lists."
   ]
  },
  {
   "cell_type": "code",
   "execution_count": 8,
   "metadata": {},
   "outputs": [
    {
     "name": "stdout",
     "output_type": "stream",
     "text": [
      "Even numbers are: []\n",
      "odd numbers are: [1]\n",
      "Even numbers are: [2]\n",
      "odd numbers are: [1, 3]\n",
      "Even numbers are: [2, 4]\n",
      "odd numbers are: [1, 3, 5]\n",
      "Even numbers are: [2, 4, 6]\n",
      "odd numbers are: [1, 3, 5, 7]\n",
      "Even numbers are: [2, 4, 6, 8]\n",
      "odd numbers are: [1, 3, 5, 7, 9]\n"
     ]
    }
   ],
   "source": [
    "# Even & Odd Number Separator\n",
    "start=input(\"Enter the starting number: \")\n",
    "end=input(\"Enter the ending number: \")\n",
    "# Lists to store even and odd numbers\n",
    "even=[]\n",
    "odd=[]\n",
    "# Check if the number is even or odd\n",
    "for i in range(1,11):\n",
    "    if i%2==0:\n",
    "        even.append(i)\n",
    "    else:\n",
    "        odd.append(i)\n",
    "        print(\"Even numbers are:\",even)\n",
    "        print(\"odd numbers are:\",odd)"
   ]
  }
 ],
 "metadata": {
  "kernelspec": {
   "display_name": "base",
   "language": "python",
   "name": "python3"
  },
  "language_info": {
   "codemirror_mode": {
    "name": "ipython",
    "version": 3
   },
   "file_extension": ".py",
   "mimetype": "text/x-python",
   "name": "python",
   "nbconvert_exporter": "python",
   "pygments_lexer": "ipython3",
   "version": "3.12.9"
  }
 },
 "nbformat": 4,
 "nbformat_minor": 2
}
