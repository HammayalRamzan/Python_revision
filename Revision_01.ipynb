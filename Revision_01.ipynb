{
 "cells": [
  {
   "cell_type": "markdown",
   "metadata": {},
   "source": [
    "### 1. Simple Interest Calculator\n",
    "💡 Calculate the simple interest based on user-provided principal, rate, and time.\n",
    "\n",
    "Formula:\n",
    "Simple Interest\n",
    "=\n",
    "(\n",
    "Principal\n",
    "×\n",
    "Rate\n",
    "×\n",
    "Time\n",
    ")\n",
    "100\n",
    "Simple Interest= \n",
    "100\n",
    "(Principal×Rate×Time)\n",
    "​\n",
    "\n",
    "Requirements:\n",
    "\n",
    "Ask the user for the principal (float), rate (float), and time (float) in years.\n",
    "\n",
    "Calculate the simple interest using the formula.\n",
    "\n",
    "Display the result."
   ]
  },
  {
   "cell_type": "code",
   "execution_count": 4,
   "metadata": {},
   "outputs": [
    {
     "name": "stdout",
     "output_type": "stream",
     "text": [
      "The simple interest is:  2.5\n"
     ]
    }
   ],
   "source": [
    "# The user will enter the principal amount, rate of interest and time period\n",
    "principal_amount=float(input(\"Enter the principal amount: \"))\n",
    "rate=float(input(\"Enter the rate of interest: \"))\n",
    "time_yrs=float(input(\"Enter the time in years: \"))\n",
    "\n",
    "# Using the formula for simple interest\n",
    "simple_interest=(principal_amount*rate*time_yrs)/100\n",
    "\n",
    "# Displaying the simple interest\n",
    "print(\"The simple interest is: \",simple_interest)"
   ]
  },
  {
   "cell_type": "markdown",
   "metadata": {},
   "source": [
    "### 2. Temperature Comparison\n",
    "💡 Create a program that compares two temperatures and determines which one is higher, or if they are equal.\n",
    "\n",
    "Requirements:\n",
    "\n",
    "--> Ask the user to input two temperatures (float).\n",
    "\n",
    "--> Use comparison operators to determine which temperature is higher or if they are equal.\n",
    "\n",
    "--> Display the result."
   ]
  },
  {
   "cell_type": "code",
   "execution_count": 7,
   "metadata": {},
   "outputs": [
    {
     "name": "stdout",
     "output_type": "stream",
     "text": [
      "The second temperature is greater than the first temperature\n"
     ]
    }
   ],
   "source": [
    "# The user will enter the temperature in Celsius\n",
    "temp_1=input(\"Enter your first temperature in Celsius: \")\n",
    "temp_2=input(\"Enter your second temperature in Celsius: \")\n",
    "\n",
    "# Comparison of the two temperatures\n",
    "if temp_1>temp_2:\n",
    "    print(\"The first temperature is greater than the second temperature\")\n",
    "elif temp_1<temp_2:\n",
    "    print(\"The second temperature is greater than the first temperature\")\n",
    "else:\n",
    "    print(\"The two temperatures are equal\")\n"
   ]
  }
 ],
 "metadata": {
  "kernelspec": {
   "display_name": "base",
   "language": "python",
   "name": "python3"
  },
  "language_info": {
   "codemirror_mode": {
    "name": "ipython",
    "version": 3
   },
   "file_extension": ".py",
   "mimetype": "text/x-python",
   "name": "python",
   "nbconvert_exporter": "python",
   "pygments_lexer": "ipython3",
   "version": "3.12.9"
  }
 },
 "nbformat": 4,
 "nbformat_minor": 2
}
